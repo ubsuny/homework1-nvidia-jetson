{
 "cells": [
  {
   "cell_type": "markdown",
   "metadata": {},
   "source": [
    "# FFT with our own C++ code and SWIG\n",
    "\n",
    "\n",
    "We can take this opportunity to show you how to use your own C++ implementation of codes from within python. \n",
    "\n",
    "One caveat: we are using `vector<complex<double>>` for our C++ FFT implementation. However, the SWIG numpy setup does not natively support this type, so it's a bit beyond what I would like to show you. \n",
    "\n",
    "We will therefore just have to copy our back and forth (once) to use our software. \n"
   ]
  },
  {
   "cell_type": "markdown",
   "metadata": {},
   "source": [
    "\n",
    "## Step 1 : Look at C++ files\n",
    "\n",
    "First we have our FFT C++ files: \n"
   ]
  },
  {
   "cell_type": "code",
   "execution_count": 1,
   "metadata": {},
   "outputs": [
    {
     "name": "stdout",
     "output_type": "stream",
     "text": [
      "\r",
      "\r\n",
      "#include <cmath>\r",
      "\r\n",
      "#include <ctime>\r",
      "\r\n",
      "#include <fstream>\r",
      "\r\n",
      "#include <iostream>\r",
      "\r\n",
      "#include <string>\r",
      "\r\n",
      "#include <sstream>\r",
      "\r\n",
      "#include \"our_fft.hpp\"\r",
      "\r\n",
      "\r",
      "\r\n",
      "using namespace std;\r",
      "\r\n",
      "\r",
      "\r\n",
      "// Return Discrete Fourier Transform (DFT) of a complex data vector\r",
      "\r\n",
      "vector< complex<double> >\r",
      "\r\n",
      "our_dft(const vector< complex<double> >& data)\r",
      "\r\n",
      "{\r",
      "\r\n",
      "    int N = data.size();\r",
      "\r\n",
      "    vector< complex<double> > transform(N, 0.0);\r",
      "\r\n",
      "    const double pi = 4 * atan(1.0);\r",
      "\r\n",
      "    const complex<double> i(0.0, 1.0);\r",
      "\r\n",
      "    for (int k = 0; k < N; k++)\r",
      "\r\n",
      "        for (int j = 0; j < N; j++) {\r",
      "\r\n",
      "            double angle = 2 * pi * k * j / double(N);\r",
      "\r\n",
      "            transform[k] += data[j] * exp(i * angle);\r",
      "\r\n",
      "        }\r",
      "\r\n",
      "    return transform;\r",
      "\r\n",
      "}\r",
      "\r\n",
      "\r",
      "\r\n",
      "// Return Fast Fourier Transform (FFT) using Danielson-Lanczos Lemma\r",
      "\r\n",
      "vector< complex<double> >\r",
      "\r\n",
      "our_fft(const vector< complex<double> >& data)\r",
      "\r\n",
      "{\r",
      "\r\n",
      "    int N = data.size();\r",
      "\r\n",
      "    if (N == 1)             // transform is trivial\r",
      "\r\n",
      "        return data;\r",
      "\r\n",
      "    else if (N % 2 == 1)    // transform is odd, lemma does not apply\r",
      "\r\n",
      "        return our_dft(data);\r",
      "\r\n",
      "\r",
      "\r\n",
      "    // perform even-odd decomposition and transform recursively\r",
      "\r\n",
      "    vector< complex<double> > even(N / 2, 0.0);\r",
      "\r\n",
      "    for (int j = 0; j < N / 2; j++)\r",
      "\r\n",
      "        even[j] = data[2 * j];\r",
      "\r\n",
      "    even = our_fft(even);\r",
      "\r\n",
      "    vector< complex<double> > odd(N / 2, 0.0);\r",
      "\r\n",
      "    for (int j = 0; j < N / 2; j++)\r",
      "\r\n",
      "        odd[j] = data[2 * j + 1];\r",
      "\r\n",
      "    odd = our_fft(odd);\r",
      "\r\n",
      "    const double pi = 4 * atan(1.0);\r",
      "\r\n",
      "    const complex<double> i(0.0, 1.0);\r",
      "\r\n",
      "    complex<double> W = exp(2.0 * i * pi / double(N));\r",
      "\r\n",
      "    complex<double> Wk = 1.0;\r",
      "\r\n",
      "    vector< complex<double> > transform(N, 0.0);\r",
      "\r\n",
      "    for (int k = 0; k < N; k++) {\r",
      "\r\n",
      "        transform[k] = even[k % (N / 2)] + Wk * odd[k % (N / 2)];\r",
      "\r\n",
      "        Wk *= W;\r",
      "\r\n",
      "    }\r",
      "\r\n",
      "    return transform;\r",
      "\r\n",
      "}\r",
      "\r\n",
      "#ifndef OUR_FFT_HPP\r\n",
      "#define OUR_FFT_HPP\r\n",
      "#include <complex>\r\n",
      "#include <vector>\r\n",
      "\r\n",
      "\r\n",
      "// Return Fast Fourier Transform (FFT) using Danielson-Lanczos Lemma\r\n",
      "std::vector< std::complex<double> > our_fft(const std::vector< std::complex<double> >& data);\r\n",
      "// Return discrete Fourier Transform (DFT)\r\n",
      "std::vector< std::complex<double> > our_dft(const std::vector< std::complex<double> >& data);\r\n",
      "\r\n",
      "#endif\r\n"
     ]
    }
   ],
   "source": [
    "! cat our_fft.cpp our_fft.hpp"
   ]
  },
  {
   "cell_type": "markdown",
   "metadata": {},
   "source": [
    "\n",
    "\n",
    "## Step 2 : Look at SWIG interface file\n",
    "\n",
    "The magic of SWIG is to create wrapper C++ functions that use the \"cython\" interface. We also have an \"interface\" file for SWIG :"
   ]
  },
  {
   "cell_type": "code",
   "execution_count": 2,
   "metadata": {},
   "outputs": [
    {
     "name": "stdout",
     "output_type": "stream",
     "text": [
      "%module our_fft\r\n",
      "/* First: Include your own code.*/\r\n",
      "%{\r\n",
      "#define OUR_FFT\r\n",
      "#include \"our_fft.hpp\"\r\n",
      "%}\r\n",
      "/* Next: declare the functions you want to use.*/\r\n",
      "std::vector< std::complex<double> > our_fft(const std::vector< std::complex<double> >& data);\r\n",
      "std::vector< std::complex<double> > our_dft(const std::vector< std::complex<double> >& data);\r\n",
      "\r\n",
      "/* Finally: include any other libraries and types you need. \r\n",
      "Yes, you need one type per class, so that means one type per\r\n",
      "template instance.*/\r\n",
      "\r\n",
      "\r\n",
      "%include \"std_vector.i\"\r\n",
      "%include \"std_complex.i\"\r\n",
      "\r\n",
      "namespace std {\r\n",
      "  %template(vector_complex_double) vector<std::complex<double> >;\r\n",
      "};\r\n",
      "\r\n",
      "\r\n"
     ]
    }
   ],
   "source": [
    "! cat our_fft.i"
   ]
  },
  {
   "cell_type": "markdown",
   "metadata": {},
   "source": [
    "## Step 3 : Look at SWIG setup file\n",
    "\n",
    "This tells SWIG to generate a file called ```our_fft_wrap.cxx``` using source from ```our_fft.cpp``` with C++11. \n"
   ]
  },
  {
   "cell_type": "code",
   "execution_count": 3,
   "metadata": {},
   "outputs": [
    {
     "name": "stdout",
     "output_type": "stream",
     "text": [
      "#!/usr/bin/env python\r\n",
      "\r\n",
      "\"\"\"\r\n",
      "setup.py file for SWIG example\r\n",
      "\"\"\"\r\n",
      "\r\n",
      "from distutils.core import setup, Extension\r\n",
      "\r\n",
      "\r\n",
      "our_fft = Extension('_our_fft',\r\n",
      "                           sources=['our_fft_wrap.cxx', 'our_fft.cpp'],\r\n",
      "                           extra_compile_args=[\"-std=c++11\"],\r\n",
      "                           )\r\n",
      "\r\n",
      "setup (name = 'our_fft',\r\n",
      "       version = '0.1',\r\n",
      "       author      = \"Salvatore Rappoccio\",\r\n",
      "       description = \"\"\"FFT implemented in C++ to be used in python\"\"\",\r\n",
      "       ext_modules = [our_fft],\r\n",
      "       py_modules = [\"our_fft\"],\r\n",
      "       )\r\n"
     ]
    }
   ],
   "source": [
    "! cat setup_our_fft.py"
   ]
  },
  {
   "cell_type": "markdown",
   "metadata": {},
   "source": [
    "Now create the interface using the interface file. This will create two files, ```example_wrap.cxx``` and ```example.py```. They are not intended to be human-readable, so we don't need to look into them. "
   ]
  },
  {
   "cell_type": "markdown",
   "metadata": {},
   "source": [
    "## Step 4: Create SWIG interface from file"
   ]
  },
  {
   "cell_type": "code",
   "execution_count": 4,
   "metadata": {},
   "outputs": [],
   "source": [
    "! swig -c++ -python our_fft.i "
   ]
  },
  {
   "cell_type": "markdown",
   "metadata": {},
   "source": [
    "## Step 5 : compile C++ and interface\n",
    "\n",
    "This will compile our file ```our_fft.cpp``` along with ```our_fft_wrap.cxx``` using the rules we set (for instance, using the C++11 compiler). \n",
    "\n",
    "We are now free to use this in python!"
   ]
  },
  {
   "cell_type": "code",
   "execution_count": 5,
   "metadata": {},
   "outputs": [
    {
     "name": "stdout",
     "output_type": "stream",
     "text": [
      "running build_ext\n",
      "building '_our_fft' extension\n",
      "creating build\n",
      "creating build/temp.linux-x86_64-3.7\n",
      "x86_64-linux-gnu-gcc -pthread -Wno-unused-result -Wsign-compare -DNDEBUG -g -fwrapv -O2 -Wall -g -fstack-protector-strong -Wformat -Werror=format-security -g -fwrapv -O2 -g -fstack-protector-strong -Wformat -Werror=format-security -Wdate-time -D_FORTIFY_SOURCE=2 -fPIC -I/usr/include/python3.7m -c our_fft_wrap.cxx -o build/temp.linux-x86_64-3.7/our_fft_wrap.o -std=c++11\n",
      "x86_64-linux-gnu-gcc -pthread -Wno-unused-result -Wsign-compare -DNDEBUG -g -fwrapv -O2 -Wall -g -fstack-protector-strong -Wformat -Werror=format-security -g -fwrapv -O2 -g -fstack-protector-strong -Wformat -Werror=format-security -Wdate-time -D_FORTIFY_SOURCE=2 -fPIC -I/usr/include/python3.7m -c our_fft.cpp -o build/temp.linux-x86_64-3.7/our_fft.o -std=c++11\n",
      "x86_64-linux-gnu-g++ -pthread -shared -Wl,-O1 -Wl,-Bsymbolic-functions -Wl,-Bsymbolic-functions -Wl,-z,relro -Wl,-Bsymbolic-functions -Wl,-z,relro -g -fstack-protector-strong -Wformat -Werror=format-security -Wdate-time -D_FORTIFY_SOURCE=2 build/temp.linux-x86_64-3.7/our_fft_wrap.o build/temp.linux-x86_64-3.7/our_fft.o -o /results/CompPhys/DataAnalysis/FFT/_our_fft.cpython-37m-x86_64-linux-gnu.so\n"
     ]
    }
   ],
   "source": [
    "! python setup_our_fft.py build_ext --inplace"
   ]
  },
  {
   "cell_type": "markdown",
   "metadata": {},
   "source": [
    "\n",
    "## Step 6: Make profit: \n",
    "\n",
    "First we import the path correctly. "
   ]
  },
  {
   "cell_type": "code",
   "execution_count": 6,
   "metadata": {},
   "outputs": [
    {
     "name": "stdout",
     "output_type": "stream",
     "text": [
      "['/results/CompPhys/DataAnalysis/FFT', '/app/compphys_python', '/usr/lib/python37.zip', '/usr/lib/python3.7', '/usr/lib/python3.7/lib-dynload', '', '/usr/local/lib/python3.7/dist-packages', '/usr/lib/python3/dist-packages', '/usr/local/lib/python3.7/dist-packages/IPython/extensions', '/results/.ipython', '/results/CompPhys/DataAnalysis/FFT']\n"
     ]
    }
   ],
   "source": [
    "import sys\n",
    "import os\n",
    "\n",
    "sys.path.append( os.path.abspath(\".\") )\n",
    "\n",
    "print (sys.path)\n",
    "\n",
    "\n"
   ]
  },
  {
   "cell_type": "markdown",
   "metadata": {},
   "source": [
    "Next we import our actual function from the automatically generated \"our_fft.py\""
   ]
  },
  {
   "cell_type": "code",
   "execution_count": 7,
   "metadata": {},
   "outputs": [],
   "source": [
    "from our_fft import *\n"
   ]
  },
  {
   "cell_type": "markdown",
   "metadata": {},
   "source": [
    "And finally, we can use our C++ code from within python!: "
   ]
  },
  {
   "cell_type": "code",
   "execution_count": 8,
   "metadata": {},
   "outputs": [],
   "source": [
    "import numpy as np\n",
    "import matplotlib.pyplot as plt\n",
    "\n",
    "N = 1024 # number of samples\n",
    "k = 10.0 # frequency / N\n",
    "x = np.arange(N) \n",
    "# First we use numpy to make a sine wave\n",
    "y = np.sin( -2. * np.pi * k /N * x ) \n",
    "\n",
    "# Now we have to copy the numpy array to a vector<complex<double>>. \n",
    "# This is suboptimal, but this type is not automatically supported\n",
    "# by the swig numpy interface. We're just using this\n",
    "# for demonstration anyway, though. \n",
    "y_ours = vector_complex_double( N )\n",
    "for i in range(N):\n",
    "    y_ours[i] = y[i]\n",
    "\n",
    "Y_ours = our_fft(y_ours)  # Our C++ FFT implementation ... NOW WITH SWIG!\n",
    "\n",
    "# And convert back to numpy\n",
    "Y = np.zeros(N, dtype=complex)\n",
    "for i in range(N):\n",
    "    Y[i] = Y_ours[i]\n",
    "\n",
    "Y_abs = abs(Y)\n",
    "Ynp_abs = abs(Y)\n"
   ]
  },
  {
   "cell_type": "markdown",
   "metadata": {},
   "source": [
    "# Success!"
   ]
  },
  {
   "cell_type": "code",
   "execution_count": 9,
   "metadata": {},
   "outputs": [
    {
     "data": {
      "image/png": "[encoded data removed]",
      "text/plain": [
       "<Figure size 432x288 with 1 Axes>"
      ]
     },
     "metadata": {
      "needs_background": "light"
     },
     "output_type": "display_data"
    },
    {
     "data": {
      "image/png": "[encoded data removed]",
      "text/plain": [
       "<Figure size 432x288 with 1 Axes>"
      ]
     },
     "metadata": {
      "needs_background": "light"
     },
     "output_type": "display_data"
    }
   ],
   "source": [
    "\n",
    "f1 = plt.figure(1)\n",
    "plt.plot( x, y )\n",
    "plt.xlabel('x')\n",
    "plt.ylabel('y')\n",
    "\n",
    "f2 = plt.figure(2)\n",
    "plt.plot( x, Y_abs, label=\"our SWIG fft\" )\n",
    "plt.plot( x, Ynp_abs, label=\"numpy fft\")\n",
    "plt.ylabel('Fourier Component')\n",
    "plt.xlabel('Spectral Index')\n",
    "plt.legend()\n",
    "plt.xlim([0,20])\n",
    "\n",
    "plt.show()"
   ]
  },
  {
   "cell_type": "code",
   "execution_count": null,
   "metadata": {},
   "outputs": [],
   "source": []
  }
 ],
 "metadata": {
  "kernelspec": {
   "display_name": "Python 3",
   "language": "python",
   "name": "python3"
  },
  "language_info": {
   "codemirror_mode": {
    "name": "ipython",
    "version": 3
   },
   "file_extension": ".py",
   "mimetype": "text/x-python",
   "name": "python",
   "nbconvert_exporter": "python",
   "pygments_lexer": "ipython3",
   "version": "3.7.5rc1"
  }
 },
 "nbformat": 4,
 "nbformat_minor": 2
}
